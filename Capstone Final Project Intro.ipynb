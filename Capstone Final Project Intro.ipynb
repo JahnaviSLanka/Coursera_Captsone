{
 "cells": [
  {
   "cell_type": "markdown",
   "metadata": {},
   "source": [
    "## 1. Business Problem\n",
    "\n",
    "#### Orlando, a city in central Florida, is home to more than a dozen theme parks. Chief among its claims to fame is Walt Disney  World, comprised of parks like the Magic Kingdom and Epcot, as well as water parks. Another major destination, Universal Orlando, offers Universal Studios and Islands of Adventure, with the Wizarding World of Harry Potter straddling both.\n",
    "\n",
    "#### A client of mine wants to start a Travel Business in Orlando, FL with the concept of taking tourists around all the attractions according to their demand. The goal of this project is that my client wants to find the best neighborhood that is near to places like Resorts, Vacation Rentals and Motels so that my client can kick-start their business and estimate the turn out profits in the next two to three years by concentrating on the top three neighborhoods.\n",
    "\n",
    "#### This business problem mainly concentrates on finding the top three neighborhoods to start the food truck business."
   ]
  },
  {
   "cell_type": "markdown",
   "metadata": {},
   "source": [
    "## 2. Data\n",
    "\n",
    "### Source\n",
    "##### List of the neighborhoods in Orlando, FL: https://data.cityoforlando.net/Government-General/Neighborhoods/dpx3-qjrc\n",
    "##### FourSquare data to find the popular venues\n",
    "##### How will the data be used to answer the business needs?\n",
    "##### The data mentioned above will be used to explore and target locations across different venues present in the neighborhoods.\n",
    "##### 1. Use Foursquare and geopy data to map top venues for the super neighborhoods of Orlando and cluster them in groups\n",
    "##### 2. City-Data to get the neighborhoods information\n",
    "##### 3. Additional data will be added from open data sources if available in the future if the data is insufficient\n",
    "###### By extracting the venues of the neighborhoods we can determine the most visited venues which would determine that the tourist count is high in that area. By using Foursquare data and the Orlando's neighborhood data, we can recommend the top three neighborhoods by performing machine learning techniques and can visualize them through a graph or a map.\n"
   ]
  },
  {
   "cell_type": "markdown",
   "metadata": {},
   "source": [
    "### Installing Required Packages to load the data"
   ]
  },
  {
   "cell_type": "code",
   "execution_count": 13,
   "metadata": {},
   "outputs": [],
   "source": [
    "import pandas as pd\n",
    "import numpy as np\n",
    "from geopy.geocoders import Nominatim"
   ]
  },
  {
   "cell_type": "code",
   "execution_count": 14,
   "metadata": {
    "scrolled": true
   },
   "outputs": [
    {
     "data": {
      "text/html": [
       "<div>\n",
       "<style scoped>\n",
       "    .dataframe tbody tr th:only-of-type {\n",
       "        vertical-align: middle;\n",
       "    }\n",
       "\n",
       "    .dataframe tbody tr th {\n",
       "        vertical-align: top;\n",
       "    }\n",
       "\n",
       "    .dataframe thead th {\n",
       "        text-align: right;\n",
       "    }\n",
       "</style>\n",
       "<table border=\"1\" class=\"dataframe\">\n",
       "  <thead>\n",
       "    <tr style=\"text-align: right;\">\n",
       "      <th></th>\n",
       "      <th>the_geom</th>\n",
       "      <th>NBHDID</th>\n",
       "      <th>NBHDNAME</th>\n",
       "      <th>COLOR</th>\n",
       "    </tr>\n",
       "  </thead>\n",
       "  <tbody>\n",
       "    <tr>\n",
       "      <th>0</th>\n",
       "      <td>MULTIPOLYGON (((-81.40938965865213 28.49422746...</td>\n",
       "      <td>110</td>\n",
       "      <td>Park Central</td>\n",
       "      <td>10551295</td>\n",
       "    </tr>\n",
       "    <tr>\n",
       "      <th>1</th>\n",
       "      <td>MULTIPOLYGON (((-81.38217375194158 28.51274701...</td>\n",
       "      <td>112</td>\n",
       "      <td>Lake Holden</td>\n",
       "      <td>16752895</td>\n",
       "    </tr>\n",
       "    <tr>\n",
       "      <th>2</th>\n",
       "      <td>MULTIPOLYGON (((-81.29578617870794 28.49571779...</td>\n",
       "      <td>113</td>\n",
       "      <td>Pershing</td>\n",
       "      <td>16752895</td>\n",
       "    </tr>\n",
       "    <tr>\n",
       "      <th>3</th>\n",
       "      <td>MULTIPOLYGON (((-81.31051469166141 28.54720993...</td>\n",
       "      <td>4</td>\n",
       "      <td>Azalea Park</td>\n",
       "      <td>10551295</td>\n",
       "    </tr>\n",
       "    <tr>\n",
       "      <th>4</th>\n",
       "      <td>MULTIPOLYGON (((-81.31456291107887 28.51490542...</td>\n",
       "      <td>7</td>\n",
       "      <td>Bryn Mawr</td>\n",
       "      <td>16752895</td>\n",
       "    </tr>\n",
       "  </tbody>\n",
       "</table>\n",
       "</div>"
      ],
      "text/plain": [
       "                                            the_geom  NBHDID      NBHDNAME  \\\n",
       "0  MULTIPOLYGON (((-81.40938965865213 28.49422746...     110  Park Central   \n",
       "1  MULTIPOLYGON (((-81.38217375194158 28.51274701...     112   Lake Holden   \n",
       "2  MULTIPOLYGON (((-81.29578617870794 28.49571779...     113      Pershing   \n",
       "3  MULTIPOLYGON (((-81.31051469166141 28.54720993...       4   Azalea Park   \n",
       "4  MULTIPOLYGON (((-81.31456291107887 28.51490542...       7     Bryn Mawr   \n",
       "\n",
       "      COLOR  \n",
       "0  10551295  \n",
       "1  16752895  \n",
       "2  16752895  \n",
       "3  10551295  \n",
       "4  16752895  "
      ]
     },
     "execution_count": 14,
     "metadata": {},
     "output_type": "execute_result"
    }
   ],
   "source": [
    "data = pd.read_csv('C:/Users/jahna/Downloads/mco.csv')\n",
    "data.head()"
   ]
  },
  {
   "cell_type": "markdown",
   "metadata": {},
   "source": [
    "#### Renaming the NBHDID to Neighborhood"
   ]
  },
  {
   "cell_type": "code",
   "execution_count": 15,
   "metadata": {
    "scrolled": true
   },
   "outputs": [
    {
     "data": {
      "text/html": [
       "<div>\n",
       "<style scoped>\n",
       "    .dataframe tbody tr th:only-of-type {\n",
       "        vertical-align: middle;\n",
       "    }\n",
       "\n",
       "    .dataframe tbody tr th {\n",
       "        vertical-align: top;\n",
       "    }\n",
       "\n",
       "    .dataframe thead th {\n",
       "        text-align: right;\n",
       "    }\n",
       "</style>\n",
       "<table border=\"1\" class=\"dataframe\">\n",
       "  <thead>\n",
       "    <tr style=\"text-align: right;\">\n",
       "      <th></th>\n",
       "      <th>the_geom</th>\n",
       "      <th>NBHDID</th>\n",
       "      <th>Neighborhood</th>\n",
       "      <th>COLOR</th>\n",
       "    </tr>\n",
       "  </thead>\n",
       "  <tbody>\n",
       "    <tr>\n",
       "      <th>0</th>\n",
       "      <td>MULTIPOLYGON (((-81.40938965865213 28.49422746...</td>\n",
       "      <td>110</td>\n",
       "      <td>Park Central</td>\n",
       "      <td>10551295</td>\n",
       "    </tr>\n",
       "    <tr>\n",
       "      <th>1</th>\n",
       "      <td>MULTIPOLYGON (((-81.38217375194158 28.51274701...</td>\n",
       "      <td>112</td>\n",
       "      <td>Lake Holden</td>\n",
       "      <td>16752895</td>\n",
       "    </tr>\n",
       "    <tr>\n",
       "      <th>2</th>\n",
       "      <td>MULTIPOLYGON (((-81.29578617870794 28.49571779...</td>\n",
       "      <td>113</td>\n",
       "      <td>Pershing</td>\n",
       "      <td>16752895</td>\n",
       "    </tr>\n",
       "    <tr>\n",
       "      <th>3</th>\n",
       "      <td>MULTIPOLYGON (((-81.31051469166141 28.54720993...</td>\n",
       "      <td>4</td>\n",
       "      <td>Azalea Park</td>\n",
       "      <td>10551295</td>\n",
       "    </tr>\n",
       "    <tr>\n",
       "      <th>4</th>\n",
       "      <td>MULTIPOLYGON (((-81.31456291107887 28.51490542...</td>\n",
       "      <td>7</td>\n",
       "      <td>Bryn Mawr</td>\n",
       "      <td>16752895</td>\n",
       "    </tr>\n",
       "  </tbody>\n",
       "</table>\n",
       "</div>"
      ],
      "text/plain": [
       "                                            the_geom  NBHDID  Neighborhood  \\\n",
       "0  MULTIPOLYGON (((-81.40938965865213 28.49422746...     110  Park Central   \n",
       "1  MULTIPOLYGON (((-81.38217375194158 28.51274701...     112   Lake Holden   \n",
       "2  MULTIPOLYGON (((-81.29578617870794 28.49571779...     113      Pershing   \n",
       "3  MULTIPOLYGON (((-81.31051469166141 28.54720993...       4   Azalea Park   \n",
       "4  MULTIPOLYGON (((-81.31456291107887 28.51490542...       7     Bryn Mawr   \n",
       "\n",
       "      COLOR  \n",
       "0  10551295  \n",
       "1  16752895  \n",
       "2  16752895  \n",
       "3  10551295  \n",
       "4  16752895  "
      ]
     },
     "execution_count": 15,
     "metadata": {},
     "output_type": "execute_result"
    }
   ],
   "source": [
    "df_mco = data.rename(columns={data.columns[2]: 'Neighborhood'})\n",
    "df_mco.head()"
   ]
  },
  {
   "cell_type": "markdown",
   "metadata": {},
   "source": [
    "#### Getting Longitude and Latitude values of Orlando using geolocator"
   ]
  },
  {
   "cell_type": "code",
   "execution_count": 16,
   "metadata": {},
   "outputs": [
    {
     "name": "stdout",
     "output_type": "stream",
     "text": [
      "Geographical co-ordinates of Orlando, FL are (lat):28.5421109 and (long): -81.3790304\n"
     ]
    }
   ],
   "source": [
    "address = 'Orlando, FL'\n",
    "\n",
    "geolocator = Nominatim(user_agent=\"foursquare_agent\")\n",
    "location = geolocator.geocode(address)\n",
    "latitude = location.latitude\n",
    "longitude = location.longitude\n",
    "print(\"Geographical co-ordinates of Orlando, FL are (lat):{} and (long): {}\".format(latitude, longitude))"
   ]
  },
  {
   "cell_type": "markdown",
   "metadata": {},
   "source": [
    "#### Create lists for lat and long"
   ]
  },
  {
   "cell_type": "code",
   "execution_count": 17,
   "metadata": {},
   "outputs": [],
   "source": [
    "lat = []\n",
    "lng = []\n",
    "\n",
    "#Loop through all neigborhoods in Helsinki\n",
    "for adr in df_mco['Neighborhood']:\n",
    "    #Use geolocator to get coordinates of neigborhoods within Houston\n",
    "    loc = geolocator.geocode(adr+','+ 'Orlando'+','+'FL')\n",
    "    if loc == None:\n",
    "        lat.append('NAN')\n",
    "        lng.append('NAN')\n",
    "    #Append coordinates to lists\n",
    "    else:\n",
    "        lat.append(loc.latitude)\n",
    "        lng.append(loc.longitude)\n",
    "\n",
    "#Map coordinate lists to data frame \n",
    "\n",
    "df_mco['lat'] = lat\n",
    "df_mco['lng'] = lng"
   ]
  },
  {
   "cell_type": "code",
   "execution_count": 18,
   "metadata": {},
   "outputs": [
    {
     "data": {
      "text/html": [
       "<div>\n",
       "<style scoped>\n",
       "    .dataframe tbody tr th:only-of-type {\n",
       "        vertical-align: middle;\n",
       "    }\n",
       "\n",
       "    .dataframe tbody tr th {\n",
       "        vertical-align: top;\n",
       "    }\n",
       "\n",
       "    .dataframe thead th {\n",
       "        text-align: right;\n",
       "    }\n",
       "</style>\n",
       "<table border=\"1\" class=\"dataframe\">\n",
       "  <thead>\n",
       "    <tr style=\"text-align: right;\">\n",
       "      <th></th>\n",
       "      <th>the_geom</th>\n",
       "      <th>NBHDID</th>\n",
       "      <th>Neighborhood</th>\n",
       "      <th>COLOR</th>\n",
       "      <th>lat</th>\n",
       "      <th>lng</th>\n",
       "    </tr>\n",
       "  </thead>\n",
       "  <tbody>\n",
       "    <tr>\n",
       "      <th>0</th>\n",
       "      <td>MULTIPOLYGON (((-81.40938965865213 28.49422746...</td>\n",
       "      <td>110</td>\n",
       "      <td>Park Central</td>\n",
       "      <td>10551295</td>\n",
       "      <td>28.4904</td>\n",
       "      <td>-81.4135</td>\n",
       "    </tr>\n",
       "    <tr>\n",
       "      <th>1</th>\n",
       "      <td>MULTIPOLYGON (((-81.38217375194158 28.51274701...</td>\n",
       "      <td>112</td>\n",
       "      <td>Lake Holden</td>\n",
       "      <td>16752895</td>\n",
       "      <td>28.5049</td>\n",
       "      <td>-81.3853</td>\n",
       "    </tr>\n",
       "    <tr>\n",
       "      <th>2</th>\n",
       "      <td>MULTIPOLYGON (((-81.29578617870794 28.49571779...</td>\n",
       "      <td>113</td>\n",
       "      <td>Pershing</td>\n",
       "      <td>16752895</td>\n",
       "      <td>28.4973</td>\n",
       "      <td>-81.2963</td>\n",
       "    </tr>\n",
       "    <tr>\n",
       "      <th>3</th>\n",
       "      <td>MULTIPOLYGON (((-81.31051469166141 28.54720993...</td>\n",
       "      <td>4</td>\n",
       "      <td>Azalea Park</td>\n",
       "      <td>10551295</td>\n",
       "      <td>28.5474</td>\n",
       "      <td>-81.301</td>\n",
       "    </tr>\n",
       "    <tr>\n",
       "      <th>4</th>\n",
       "      <td>MULTIPOLYGON (((-81.31456291107887 28.51490542...</td>\n",
       "      <td>7</td>\n",
       "      <td>Bryn Mawr</td>\n",
       "      <td>16752895</td>\n",
       "      <td>28.5102</td>\n",
       "      <td>-81.3237</td>\n",
       "    </tr>\n",
       "  </tbody>\n",
       "</table>\n",
       "</div>"
      ],
      "text/plain": [
       "                                            the_geom  NBHDID  Neighborhood  \\\n",
       "0  MULTIPOLYGON (((-81.40938965865213 28.49422746...     110  Park Central   \n",
       "1  MULTIPOLYGON (((-81.38217375194158 28.51274701...     112   Lake Holden   \n",
       "2  MULTIPOLYGON (((-81.29578617870794 28.49571779...     113      Pershing   \n",
       "3  MULTIPOLYGON (((-81.31051469166141 28.54720993...       4   Azalea Park   \n",
       "4  MULTIPOLYGON (((-81.31456291107887 28.51490542...       7     Bryn Mawr   \n",
       "\n",
       "      COLOR      lat      lng  \n",
       "0  10551295  28.4904 -81.4135  \n",
       "1  16752895  28.5049 -81.3853  \n",
       "2  16752895  28.4973 -81.2963  \n",
       "3  10551295  28.5474  -81.301  \n",
       "4  16752895  28.5102 -81.3237  "
      ]
     },
     "execution_count": 18,
     "metadata": {},
     "output_type": "execute_result"
    }
   ],
   "source": [
    "df_mco.head()"
   ]
  },
  {
   "cell_type": "markdown",
   "metadata": {},
   "source": [
    "#### Checking for null values"
   ]
  },
  {
   "cell_type": "code",
   "execution_count": 19,
   "metadata": {},
   "outputs": [
    {
     "data": {
      "text/plain": [
       "the_geom        0\n",
       "NBHDID          0\n",
       "Neighborhood    0\n",
       "COLOR           0\n",
       "lat             0\n",
       "lng             0\n",
       "dtype: int64"
      ]
     },
     "execution_count": 19,
     "metadata": {},
     "output_type": "execute_result"
    }
   ],
   "source": [
    "df_mco.isnull().sum()"
   ]
  },
  {
   "cell_type": "markdown",
   "metadata": {},
   "source": [
    "#### Renamed lat to Latitude and lng to Longitude"
   ]
  },
  {
   "cell_type": "code",
   "execution_count": 20,
   "metadata": {},
   "outputs": [
    {
     "data": {
      "text/html": [
       "<div>\n",
       "<style scoped>\n",
       "    .dataframe tbody tr th:only-of-type {\n",
       "        vertical-align: middle;\n",
       "    }\n",
       "\n",
       "    .dataframe tbody tr th {\n",
       "        vertical-align: top;\n",
       "    }\n",
       "\n",
       "    .dataframe thead th {\n",
       "        text-align: right;\n",
       "    }\n",
       "</style>\n",
       "<table border=\"1\" class=\"dataframe\">\n",
       "  <thead>\n",
       "    <tr style=\"text-align: right;\">\n",
       "      <th></th>\n",
       "      <th>the_geom</th>\n",
       "      <th>NBHDID</th>\n",
       "      <th>Neighborhood</th>\n",
       "      <th>COLOR</th>\n",
       "      <th>Latitude</th>\n",
       "      <th>Longitude</th>\n",
       "    </tr>\n",
       "  </thead>\n",
       "  <tbody>\n",
       "    <tr>\n",
       "      <th>0</th>\n",
       "      <td>MULTIPOLYGON (((-81.40938965865213 28.49422746...</td>\n",
       "      <td>110</td>\n",
       "      <td>Park Central</td>\n",
       "      <td>10551295</td>\n",
       "      <td>28.4904</td>\n",
       "      <td>-81.4135</td>\n",
       "    </tr>\n",
       "    <tr>\n",
       "      <th>1</th>\n",
       "      <td>MULTIPOLYGON (((-81.38217375194158 28.51274701...</td>\n",
       "      <td>112</td>\n",
       "      <td>Lake Holden</td>\n",
       "      <td>16752895</td>\n",
       "      <td>28.5049</td>\n",
       "      <td>-81.3853</td>\n",
       "    </tr>\n",
       "    <tr>\n",
       "      <th>2</th>\n",
       "      <td>MULTIPOLYGON (((-81.29578617870794 28.49571779...</td>\n",
       "      <td>113</td>\n",
       "      <td>Pershing</td>\n",
       "      <td>16752895</td>\n",
       "      <td>28.4973</td>\n",
       "      <td>-81.2963</td>\n",
       "    </tr>\n",
       "    <tr>\n",
       "      <th>3</th>\n",
       "      <td>MULTIPOLYGON (((-81.31051469166141 28.54720993...</td>\n",
       "      <td>4</td>\n",
       "      <td>Azalea Park</td>\n",
       "      <td>10551295</td>\n",
       "      <td>28.5474</td>\n",
       "      <td>-81.301</td>\n",
       "    </tr>\n",
       "    <tr>\n",
       "      <th>4</th>\n",
       "      <td>MULTIPOLYGON (((-81.31456291107887 28.51490542...</td>\n",
       "      <td>7</td>\n",
       "      <td>Bryn Mawr</td>\n",
       "      <td>16752895</td>\n",
       "      <td>28.5102</td>\n",
       "      <td>-81.3237</td>\n",
       "    </tr>\n",
       "  </tbody>\n",
       "</table>\n",
       "</div>"
      ],
      "text/plain": [
       "                                            the_geom  NBHDID  Neighborhood  \\\n",
       "0  MULTIPOLYGON (((-81.40938965865213 28.49422746...     110  Park Central   \n",
       "1  MULTIPOLYGON (((-81.38217375194158 28.51274701...     112   Lake Holden   \n",
       "2  MULTIPOLYGON (((-81.29578617870794 28.49571779...     113      Pershing   \n",
       "3  MULTIPOLYGON (((-81.31051469166141 28.54720993...       4   Azalea Park   \n",
       "4  MULTIPOLYGON (((-81.31456291107887 28.51490542...       7     Bryn Mawr   \n",
       "\n",
       "      COLOR Latitude Longitude  \n",
       "0  10551295  28.4904  -81.4135  \n",
       "1  16752895  28.5049  -81.3853  \n",
       "2  16752895  28.4973  -81.2963  \n",
       "3  10551295  28.5474   -81.301  \n",
       "4  16752895  28.5102  -81.3237  "
      ]
     },
     "execution_count": 20,
     "metadata": {},
     "output_type": "execute_result"
    }
   ],
   "source": [
    "df_mco = df_mco.rename(columns = {\"lat\": \"Latitude\", \"lng\": \"Longitude\"})\n",
    "df_mco.head()"
   ]
  },
  {
   "cell_type": "markdown",
   "metadata": {},
   "source": [
    "#### Created a df that consists of the required columns"
   ]
  },
  {
   "cell_type": "code",
   "execution_count": 21,
   "metadata": {},
   "outputs": [
    {
     "data": {
      "text/html": [
       "<div>\n",
       "<style scoped>\n",
       "    .dataframe tbody tr th:only-of-type {\n",
       "        vertical-align: middle;\n",
       "    }\n",
       "\n",
       "    .dataframe tbody tr th {\n",
       "        vertical-align: top;\n",
       "    }\n",
       "\n",
       "    .dataframe thead th {\n",
       "        text-align: right;\n",
       "    }\n",
       "</style>\n",
       "<table border=\"1\" class=\"dataframe\">\n",
       "  <thead>\n",
       "    <tr style=\"text-align: right;\">\n",
       "      <th></th>\n",
       "      <th>Neighborhood</th>\n",
       "      <th>Longitude</th>\n",
       "      <th>Latitude</th>\n",
       "    </tr>\n",
       "  </thead>\n",
       "  <tbody>\n",
       "    <tr>\n",
       "      <th>0</th>\n",
       "      <td>Park Central</td>\n",
       "      <td>-81.4135</td>\n",
       "      <td>28.4904</td>\n",
       "    </tr>\n",
       "    <tr>\n",
       "      <th>1</th>\n",
       "      <td>Lake Holden</td>\n",
       "      <td>-81.3853</td>\n",
       "      <td>28.5049</td>\n",
       "    </tr>\n",
       "    <tr>\n",
       "      <th>2</th>\n",
       "      <td>Pershing</td>\n",
       "      <td>-81.2963</td>\n",
       "      <td>28.4973</td>\n",
       "    </tr>\n",
       "    <tr>\n",
       "      <th>3</th>\n",
       "      <td>Azalea Park</td>\n",
       "      <td>-81.301</td>\n",
       "      <td>28.5474</td>\n",
       "    </tr>\n",
       "    <tr>\n",
       "      <th>4</th>\n",
       "      <td>Bryn Mawr</td>\n",
       "      <td>-81.3237</td>\n",
       "      <td>28.5102</td>\n",
       "    </tr>\n",
       "  </tbody>\n",
       "</table>\n",
       "</div>"
      ],
      "text/plain": [
       "   Neighborhood Longitude Latitude\n",
       "0  Park Central  -81.4135  28.4904\n",
       "1   Lake Holden  -81.3853  28.5049\n",
       "2      Pershing  -81.2963  28.4973\n",
       "3   Azalea Park   -81.301  28.5474\n",
       "4     Bryn Mawr  -81.3237  28.5102"
      ]
     },
     "execution_count": 21,
     "metadata": {},
     "output_type": "execute_result"
    }
   ],
   "source": [
    "df_neigh = df_mco[[\"Neighborhood\", \"Longitude\", \"Latitude\"]]\n",
    "df_neigh.head()"
   ]
  },
  {
   "cell_type": "code",
   "execution_count": null,
   "metadata": {},
   "outputs": [],
   "source": []
  }
 ],
 "metadata": {
  "kernelspec": {
   "display_name": "Python 3",
   "language": "python",
   "name": "python3"
  },
  "language_info": {
   "codemirror_mode": {
    "name": "ipython",
    "version": 3
   },
   "file_extension": ".py",
   "mimetype": "text/x-python",
   "name": "python",
   "nbconvert_exporter": "python",
   "pygments_lexer": "ipython3",
   "version": "3.6.10"
  }
 },
 "nbformat": 4,
 "nbformat_minor": 4
}
